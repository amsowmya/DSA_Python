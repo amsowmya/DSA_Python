{
 "cells": [
  {
   "cell_type": "code",
   "execution_count": 3,
   "metadata": {},
   "outputs": [],
   "source": [
    "class Node:\n",
    "    def __init__(self, value):\n",
    "        self.value = value\n",
    "        self.next = None"
   ]
  },
  {
   "cell_type": "code",
   "execution_count": 4,
   "metadata": {},
   "outputs": [
    {
     "name": "stdout",
     "output_type": "stream",
     "text": [
      "<__main__.Node object at 0x000001B768E84948>\n"
     ]
    }
   ],
   "source": [
    "new_node = Node(10)\n",
    "print(new_node)"
   ]
  },
  {
   "cell_type": "code",
   "execution_count": 6,
   "metadata": {},
   "outputs": [
    {
     "name": "stdout",
     "output_type": "stream",
     "text": [
      "None\n",
      "0\n"
     ]
    }
   ],
   "source": [
    "# Empty linked list \n",
    "\n",
    "class LinkedList:\n",
    "    def __init__(self):\n",
    "        self.head = None\n",
    "        self.tail = None \n",
    "        self.length = 0\n",
    "\n",
    "linked_list = LinkedList()\n",
    "\n",
    "print(linked_list.head)\n",
    "print(linked_list.length)\n",
    "    "
   ]
  },
  {
   "cell_type": "code",
   "execution_count": 8,
   "metadata": {},
   "outputs": [
    {
     "name": "stdout",
     "output_type": "stream",
     "text": [
      "10\n",
      "10\n",
      "1\n"
     ]
    }
   ],
   "source": [
    "# Single node is acts as head and tail both\n",
    "\n",
    "class Node:\n",
    "    def __init__(self, value):\n",
    "        self.value = value \n",
    "        self.next = None \n",
    "\n",
    "class LinkedList:\n",
    "    def __init__(self, value):\n",
    "        new_node = Node(value)\n",
    "        self.head = new_node \n",
    "        self.tail = new_node \n",
    "        self.length = 1 \n",
    "\n",
    "linked_list = LinkedList(10)\n",
    "\n",
    "print(linked_list.head.value)\n",
    "print(linked_list.tail.value)\n",
    "print(linked_list.length)"
   ]
  },
  {
   "cell_type": "markdown",
   "metadata": {},
   "source": [
    "Insert Element at End"
   ]
  },
  {
   "cell_type": "code",
   "execution_count": 52,
   "metadata": {},
   "outputs": [],
   "source": [
    "class Node:\n",
    "    def __init__(self, value):\n",
    "        self.value = value \n",
    "        self.next = None \n",
    "\n",
    "class LinkedList:\n",
    "    def __init__(self):\n",
    "        self.head = None \n",
    "        self.tail = None \n",
    "        self.length = 0\n",
    "\n",
    "    def __str__(self):\n",
    "        temp_node = self.head\n",
    "        result = ''\n",
    "        while temp_node is not None:\n",
    "            result += str(temp_node.value )\n",
    "            if temp_node.next is not None:\n",
    "                result += '->'\n",
    "            temp_node = temp_node.next\n",
    "        return result \n",
    "\n",
    "    def append(self, value):\n",
    "        new_node = Node(value)\n",
    "        if self.head is None:\n",
    "            self.head = new_node \n",
    "            self.tail = new_node \n",
    "        else:\n",
    "            self.tail.next = new_node \n",
    "            self.tail = new_node \n",
    "        self.length += 1\n",
    "\n",
    "    def prepend(self, value):\n",
    "        new_node = Node(value)\n",
    "        if self.head is None:\n",
    "            self.head = new_node \n",
    "            self.tail = new_node\n",
    "        else:\n",
    "            new_node.next = self.head \n",
    "            self.head = new_node \n",
    "        self.length += 1\n",
    "\n",
    "    def insert(self, value, index):\n",
    "        new_node = Node(value)\n",
    "        if self.head is None:\n",
    "            self.head = new_node\n",
    "            self.tail = new_node\n",
    "        elif index < 0 or index > self.length:\n",
    "            return False\n",
    "        elif index == 0:\n",
    "            new_node.next = self.head\n",
    "            self.head = new_node\n",
    "        else:\n",
    "            temp_node = self.head\n",
    "            for _ in range(index-1):\n",
    "                temp_node = temp_node.next\n",
    "            new_node.next = temp_node.next\n",
    "            temp_node.next = new_node \n",
    "        return True\n",
    "\n",
    "    def traverse(self):\n",
    "        current = self.head\n",
    "        while current:\n",
    "            print(current.value)\n",
    "            current = current.next\n",
    "\n",
    "    def search_element(self, element):\n",
    "        current = self.head\n",
    "        index = 0\n",
    "        while current:\n",
    "            if current.value == element:\n",
    "                return f\"element located at index {index}\" \n",
    "            current = current.next \n",
    "            index += 1\n",
    "        return -1\n",
    "    \n",
    "    def get(self, index):\n",
    "        if index == -1:\n",
    "            return self.tail\n",
    "        if (index < 0) or (index >= self.length):\n",
    "            return \"Index error\"\n",
    "        current = self.head\n",
    "        for _ in range(index):\n",
    "            current = current.next \n",
    "        return current\n",
    "    \n",
    "    def set_value(self, index, value):\n",
    "        temp = self.get(index)\n",
    "        if temp:\n",
    "            temp.value = value\n",
    "            return True \n",
    "        return False \n",
    "    \n",
    "    def pop_first(self):\n",
    "        if self.head is None:\n",
    "            return None \n",
    "        popped_node = self.head \n",
    "        if self.length == 1:\n",
    "            self.head = None\n",
    "            self.tail = None\n",
    "        else:\n",
    "            self.head = self.head.next\n",
    "            popped_node.next = None\n",
    "        self.length -= 1\n",
    "        return popped_node\n",
    "\n",
    "    def pop(self):\n",
    "        if self.head is None:\n",
    "            return None\n",
    "        popped_node = self.tail\n",
    "        if self.length == 1:\n",
    "            self.head = None\n",
    "            self.tail = None\n",
    "        else:\n",
    "            temp = self.head\n",
    "            while temp.next is not self.tail:\n",
    "                temp = temp.next \n",
    "            self.tail = temp\n",
    "            temp.next = None \n",
    "        self.length -= 1\n",
    "        return popped_node\n",
    "\n",
    "    def remove(self, index):\n",
    "        if index < 0 or index >= self.length:\n",
    "            return None\n",
    "        prev_node = self.get(index-1)\n",
    "        popped_node = prev_node.next\n",
    "        if index == 0:\n",
    "            return self.pop_first()\n",
    "        if index == self.length -1:\n",
    "            return self.pop()\n",
    "        else:\n",
    "            prev_node.next = popped_node.next\n",
    "            popped_node.next = None\n",
    "\n",
    "        self.length -= 1\n",
    "        return popped_node\n",
    "\n",
    "    def delete_all(self):\n",
    "        self.head = None\n",
    "        self.tail = None \n",
    "        self.length = 0\n",
    "\n",
    "\n",
    "        \n",
    "        "
   ]
  },
  {
   "cell_type": "code",
   "execution_count": 54,
   "metadata": {},
   "outputs": [
    {
     "name": "stdout",
     "output_type": "stream",
     "text": [
      "5->10->20->30\n",
      "====\n",
      "<__main__.Node object at 0x000001683C2EFF88>\n",
      "5->10->20\n",
      "20\n",
      "=========================\n",
      "\n"
     ]
    }
   ],
   "source": [
    "linked_list = LinkedList()\n",
    "\n",
    "linked_list.append(10)\n",
    "linked_list.append(20)\n",
    "linked_list.append(30)\n",
    "linked_list.prepend(5)\n",
    "\n",
    "print(linked_list)\n",
    "print(\"====\")\n",
    "print(linked_list.remove(3))\n",
    "print(linked_list)\n",
    "print(linked_list.tail.value)\n",
    "linked_list.delete_all()\n",
    "print(\"=========================\")\n",
    "print(linked_list)\n"
   ]
  },
  {
   "cell_type": "code",
   "execution_count": 19,
   "metadata": {},
   "outputs": [
    {
     "name": "stdout",
     "output_type": "stream",
     "text": [
      "-1\n",
      "40\n",
      "10\n",
      "67\n",
      "5\n",
      "50\n",
      "element located at index 4\n",
      "==============================\n",
      "40\n",
      "50\n",
      "3\n",
      "40->10->67->5->50\n"
     ]
    }
   ],
   "source": [
    "linked_list = LinkedList() \n",
    "\n",
    "print(linked_list.search_element(90))\n",
    "\n",
    "linked_list.insert(5, 0)\n",
    "linked_list.prepend(10)\n",
    "linked_list.prepend(20)\n",
    "linked_list.append(30)\n",
    "linked_list.insert(40, 2)\n",
    "linked_list.traverse()\n",
    "\n",
    "print(linked_list.search_element(50))\n",
    "\n",
    "print(\"=\"*30)\n",
    "print(linked_list.head.value)\n",
    "print(linked_list.tail.value)\n",
    "print(linked_list.length)\n",
    "print(linked_list)"
   ]
  },
  {
   "cell_type": "code",
   "execution_count": null,
   "metadata": {},
   "outputs": [],
   "source": []
  }
 ],
 "metadata": {
  "kernelspec": {
   "display_name": "Python 3",
   "language": "python",
   "name": "python3"
  },
  "language_info": {
   "codemirror_mode": {
    "name": "ipython",
    "version": 3
   },
   "file_extension": ".py",
   "mimetype": "text/x-python",
   "name": "python",
   "nbconvert_exporter": "python",
   "pygments_lexer": "ipython3",
   "version": "3.7.9"
  }
 },
 "nbformat": 4,
 "nbformat_minor": 2
}
